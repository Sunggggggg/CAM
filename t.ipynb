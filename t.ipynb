{
 "cells": [
  {
   "cell_type": "code",
   "execution_count": 1,
   "metadata": {},
   "outputs": [],
   "source": [
    "import torch\n",
    "import torch.nn as nn"
   ]
  },
  {
   "cell_type": "code",
   "execution_count": 32,
   "metadata": {},
   "outputs": [
    {
     "name": "stdout",
     "output_type": "stream",
     "text": [
      "torch.Size([4, 1, 2048])\n"
     ]
    }
   ],
   "source": [
    "import os\n",
    "import torch\n",
    "import torch.nn as nn\n",
    "\n",
    "class OC(nn.Module):\n",
    "    def __init__(self,\n",
    "                 seqlen=16\n",
    "                 ):\n",
    "        super().__init__()\n",
    "        self.seqlen = seqlen\n",
    "        self.conv1 = nn.Sequential(\n",
    "            nn.Linear(seqlen, seqlen),\n",
    "            nn.LayerNorm(seqlen),\n",
    "            nn.ReLU()\n",
    "        )\n",
    "        self.conv2 = nn.Sequential(\n",
    "            nn.Linear(seqlen//2, seqlen//2),\n",
    "            nn.LayerNorm(seqlen//2),\n",
    "            nn.ReLU()\n",
    "        )\n",
    "        self.conv3 = nn.Sequential(\n",
    "            nn.Linear(seqlen//4, seqlen//4),\n",
    "            nn.LayerNorm(seqlen//4),\n",
    "            nn.ReLU()\n",
    "        )\n",
    " \n",
    "    def forward(self, x, is_train=False, J_regressor=None):\n",
    "        B = x.shape[0]\n",
    "        init_x = x\n",
    "        x = x.permute(0, 2, 1)\n",
    "        x = self.conv1(x)                               # [B, 2048, 16]\n",
    "        x = x[..., self.seqlen//2-4 : self.seqlen//2+4] # [B, 2048, 8]\n",
    "        x = self.conv2(x)                               # [B, 2048, 8]\n",
    "        x = x[..., self.seqlen//4-2 : self.seqlen//4+2] # [B, 2048, 4]\n",
    "        x = self.conv3(x)\n",
    "        x = x[..., self.seqlen//8-1: self.seqlen//8+1]    # [B, ]\n",
    "        \n",
    "        x = x.permute(0, 2, 1)  \n",
    "        x = torch.mean(x, dim=1, keepdim=True)\n",
    "\n",
    "x = torch.rand((4, 16, 2048))\n",
    "model = OC()\n",
    "model(x)      \n"
   ]
  }
 ],
 "metadata": {
  "kernelspec": {
   "display_name": "Python 3",
   "language": "python",
   "name": "python3"
  },
  "language_info": {
   "codemirror_mode": {
    "name": "ipython",
    "version": 3
   },
   "file_extension": ".py",
   "mimetype": "text/x-python",
   "name": "python",
   "nbconvert_exporter": "python",
   "pygments_lexer": "ipython3",
   "version": "3.10.7"
  }
 },
 "nbformat": 4,
 "nbformat_minor": 2
}
